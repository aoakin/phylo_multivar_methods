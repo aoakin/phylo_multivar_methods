{
 "cells": [
  {
   "cell_type": "markdown",
   "id": "c897a4f0",
   "metadata": {},
   "source": [
    "# Test PERMANOVA accuracy on simulated data\n",
    "\n",
    "\n",
    "\n",
    "Tested with qiime2-amplicon-2023.9\n",
    "\n"
   ]
  },
  {
   "cell_type": "markdown",
   "id": "159b02f0",
   "metadata": {},
   "source": [
    "## Check available files"
   ]
  },
  {
   "cell_type": "code",
   "execution_count": 6,
   "id": "b53464d8",
   "metadata": {},
   "outputs": [
    {
     "data": {
      "text/plain": [
       "['.DS_Store',\n",
       " 'raw_sim_microbiome_tree_VCV.csv',\n",
       " 'raw_sim_microbiome_trait_VCV.csv',\n",
       " 'simulated_host_traits.csv',\n",
       " 'raw_sim_microbiome_1000microbes.csv']"
      ]
     },
     "execution_count": 6,
     "metadata": {},
     "output_type": "execute_result"
    }
   ],
   "source": [
    "from os import listdir\n",
    "from os.path import join\n",
    "import pandas as pd\n",
    "\n",
    "data_dir = \"../output\"\n",
    "listdir(data_dir)"
   ]
  },
  {
   "cell_type": "markdown",
   "id": "2487fe0d",
   "metadata": {},
   "source": [
    "## Import QIIME2 and plugins"
   ]
  },
  {
   "cell_type": "code",
   "execution_count": 3,
   "id": "86438c8a",
   "metadata": {},
   "outputs": [
    {
     "name": "stdout",
     "output_type": "stream",
     "text": [
      "2023.9.2\n"
     ]
    }
   ],
   "source": [
    "import qiime2\n",
    "print(qiime2.__version__)\n",
    "\n",
    "from qiime2.plugins import feature_table\n",
    "#from qiime2.plugins import (demux, dada2, metadata, feature_table,\n",
    "                            #fragment_insertion, diversity, \n",
    "                            #longitudinal, phylogeny, sample_classifier,\n",
    "                            #feature_classifier, taxa, composition, \n",
    "                            #longitudinal)\n",
    "\n",
    "from math import floor"
   ]
  },
  {
   "cell_type": "code",
   "execution_count": 61,
   "id": "969eee57",
   "metadata": {},
   "outputs": [
    {
     "name": "stdout",
     "output_type": "stream",
     "text": [
      "Index(['Species', 'microbe_1', 'microbe_2', 'microbe_3', 'microbe_4',\n",
      "       'microbe_5', 'microbe_6', 'microbe_7', 'microbe_8', 'microbe_9',\n",
      "       ...\n",
      "       'microbe_991', 'microbe_992', 'microbe_993', 'microbe_994',\n",
      "       'microbe_995', 'microbe_996', 'microbe_997', 'microbe_998',\n",
      "       'microbe_999', 'microbe_1000'],\n",
      "      dtype='object', length=1001)\n",
      "                                microbe_1  microbe_2  microbe_3  microbe_4  \\\n",
      "#OTU ID                                                                      \n",
      "COR_Discosoma                           2          4         39          2   \n",
      "COR_Ricordea_florida                   11          7         42          5   \n",
      "MIC_Letepsammia                         1         40          1         24   \n",
      "MIC_Rhombopsammia                       1         70          2         12   \n",
      "MIC_Stephanophyllia                     1         66          2         11   \n",
      "...                                   ...        ...        ...        ...   \n",
      "ACR_Acropora_chesterfieldensis          9         10          1        146   \n",
      "ACR_Acropora_loripes                    8         17          1        189   \n",
      "ACR_Acropora_lokani                    26         11          1        128   \n",
      "ACR_Acropora_jacquelineae              13         14          0        114   \n",
      "ACR_Acropora_rongelapensis             14         10          0        111   \n",
      "\n",
      "                                microbe_5  microbe_6  microbe_7  microbe_8  \\\n",
      "#OTU ID                                                                      \n",
      "COR_Discosoma                          69        180         18         11   \n",
      "COR_Ricordea_florida                   36        826         32          2   \n",
      "MIC_Letepsammia                         4         36        113         13   \n",
      "MIC_Rhombopsammia                       2         23        113         23   \n",
      "MIC_Stephanophyllia                     2         19        125         22   \n",
      "...                                   ...        ...        ...        ...   \n",
      "ACR_Acropora_chesterfieldensis          0          8         32          3   \n",
      "ACR_Acropora_loripes                    0          6         24          4   \n",
      "ACR_Acropora_lokani                     0          5         35          5   \n",
      "ACR_Acropora_jacquelineae               0          5         27          4   \n",
      "ACR_Acropora_rongelapensis              0          4         53          5   \n",
      "\n",
      "                                microbe_9  microbe_10  ...  microbe_991  \\\n",
      "#OTU ID                                                ...                \n",
      "COR_Discosoma                          70         129  ...           25   \n",
      "COR_Ricordea_florida                   14         588  ...           40   \n",
      "MIC_Letepsammia                         2          26  ...            3   \n",
      "MIC_Rhombopsammia                       5          26  ...            2   \n",
      "MIC_Stephanophyllia                     4          26  ...            3   \n",
      "...                                   ...         ...  ...          ...   \n",
      "ACR_Acropora_chesterfieldensis         45           9  ...           17   \n",
      "ACR_Acropora_loripes                   51           8  ...           15   \n",
      "ACR_Acropora_lokani                    62           6  ...           12   \n",
      "ACR_Acropora_jacquelineae              61           7  ...           11   \n",
      "ACR_Acropora_rongelapensis             75           6  ...           10   \n",
      "\n",
      "                                microbe_992  microbe_993  microbe_994  \\\n",
      "#OTU ID                                                                 \n",
      "COR_Discosoma                            17            1            0   \n",
      "COR_Ricordea_florida                      8            0            1   \n",
      "MIC_Letepsammia                          13            7           11   \n",
      "MIC_Rhombopsammia                        12            7            9   \n",
      "MIC_Stephanophyllia                      13            9            8   \n",
      "...                                     ...          ...          ...   \n",
      "ACR_Acropora_chesterfieldensis          159           73            8   \n",
      "ACR_Acropora_loripes                    151           65            8   \n",
      "ACR_Acropora_lokani                     118          159            7   \n",
      "ACR_Acropora_jacquelineae               107          105            5   \n",
      "ACR_Acropora_rongelapensis              177           90            6   \n",
      "\n",
      "                                microbe_995  microbe_996  microbe_997  \\\n",
      "#OTU ID                                                                 \n",
      "COR_Discosoma                            39            0            1   \n",
      "COR_Ricordea_florida                     10            0            2   \n",
      "MIC_Letepsammia                           0          499          236   \n",
      "MIC_Rhombopsammia                         0          931          326   \n",
      "MIC_Stephanophyllia                       0          772          278   \n",
      "...                                     ...          ...          ...   \n",
      "ACR_Acropora_chesterfieldensis           10            8            0   \n",
      "ACR_Acropora_loripes                      6            9            0   \n",
      "ACR_Acropora_lokani                       8           13            0   \n",
      "ACR_Acropora_jacquelineae                 9            8            0   \n",
      "ACR_Acropora_rongelapensis               11           16            0   \n",
      "\n",
      "                                microbe_998  microbe_999  microbe_1000  \n",
      "#OTU ID                                                                 \n",
      "COR_Discosoma                             5          149            11  \n",
      "COR_Ricordea_florida                      1           83             4  \n",
      "MIC_Letepsammia                           2           81           199  \n",
      "MIC_Rhombopsammia                         2           78           200  \n",
      "MIC_Stephanophyllia                       1          112           161  \n",
      "...                                     ...          ...           ...  \n",
      "ACR_Acropora_chesterfieldensis            1           15           225  \n",
      "ACR_Acropora_loripes                      2            9           176  \n",
      "ACR_Acropora_lokani                       1            8           383  \n",
      "ACR_Acropora_jacquelineae                 2           13           567  \n",
      "ACR_Acropora_rongelapensis                1           15           333  \n",
      "\n",
      "[476 rows x 1000 columns]\n"
     ]
    }
   ],
   "source": [
    "feature_data_fp = 'raw_sim_microbiome_1000microbes.csv'\n",
    "feature_data = pd.read_csv(join(data_dir,feature_data_fp))\n",
    "print(feature_data.columns)\n",
    "\n",
    "\n",
    "feature_data = feature_data.rename(columns = {'Species':'#OTU ID'})\n",
    "feature_data = feature_data.set_index('#OTU ID')\n",
    "\n",
    "\n",
    "def convert_trait_to_count(trait,base=1.1,n_seqs = 10):\n",
    "    \"\"\" Convert a trait (value -inf to +inf) to a microbiome count\n",
    "    \"\"\"\n",
    "    scaling = 1\n",
    "    new_trait = (base**trait)*n_seqs    \n",
    "    new_trait *= scaling\n",
    "    new_trait = new_trait.apply(floor)\n",
    "    return new_trait\n",
    "\n",
    "feature_data = feature_data.apply(convert_trait_to_count)\n",
    "#columns = list(feature_data.columns)\n",
    "#columns[0] = 'Taxa'\n",
    "#feature_data.columns = columns\n",
    "print(feature_data)\n",
    "feature_data.transpose().to_csv(join(data_dir,\"feature_table.csv\"),sep=\"\\t\")"
   ]
  },
  {
   "cell_type": "code",
   "execution_count": 62,
   "id": "feca3bd2",
   "metadata": {},
   "outputs": [
    {
     "data": {
      "image/png": "[encoded data removed]",
      "text/plain": [
       "<Figure size 640x480 with 1 Axes>"
      ]
     },
     "metadata": {},
     "output_type": "display_data"
    }
   ],
   "source": [
    "%matplotlib inline\n",
    "import matplotlib.pyplot as plt\n",
    "for species in feature_data.index:\n",
    "    y = sorted(list(feature_data.loc[species,:]))\n",
    "    plt.scatter(range(len(y)),y, s = 4)\n",
    "    plt.yscale(\"log\")"
   ]
  },
  {
   "cell_type": "code",
   "execution_count": 63,
   "id": "a97602a3",
   "metadata": {},
   "outputs": [],
   "source": [
    "!biom convert -i ../output/feature_table.csv -o ../output/feature_table_json.biom --table-type=\"OTU table\" --to-json"
   ]
  },
  {
   "cell_type": "code",
   "execution_count": 64,
   "id": "be792d7b",
   "metadata": {},
   "outputs": [
    {
     "name": "stdout",
     "output_type": "stream",
     "text": [
      "\u001b[32mImported ../output/feature_table_json.biom as BIOMV100Format to ../output/feature_table.qza\u001b[0m\n",
      "\u001b[0m\u001b[32mResult ../output/feature_table.qza appears to be valid at level=max.\u001b[0m\n",
      "\u001b[0m"
     ]
    }
   ],
   "source": [
    "!qiime tools import --input-path ../output/feature_table_json.biom --type 'FeatureTable[Frequency]' --input-format BIOMV100Format --output-path ../output/feature_table.qza\n",
    "!qiime tools validate ../output/feature_table.qza"
   ]
  },
  {
   "cell_type": "code",
   "execution_count": 65,
   "id": "34730420",
   "metadata": {},
   "outputs": [],
   "source": [
    "\n",
    "feature_table = qiime2.Artifact.load(\"../output/feature_table.qza\")"
   ]
  },
  {
   "cell_type": "code",
   "execution_count": null,
   "id": "01d01abf",
   "metadata": {},
   "outputs": [],
   "source": [
    "from qiime2.plugins.feature_table.methods import rarefy\n",
    "\n",
    "sequence_depth = 10000\n",
    "rarefaction_results = rarefy(feature_table,sequence_depth)\n",
    "print(rarefaction_results)"
   ]
  },
  {
   "cell_type": "code",
   "execution_count": null,
   "id": "6de647b4",
   "metadata": {},
   "outputs": [],
   "source": [
    "rarefied_table = rarefaction_results.rarefied_table\n",
    "rarefied_table.save(join(data_dir,'raw_sim_microbiome_1000microbes_rarefied_1000.qza'))"
   ]
  },
  {
   "cell_type": "code",
   "execution_count": 72,
   "id": "5c343605",
   "metadata": {},
   "outputs": [
    {
     "data": {
      "text/plain": [
       "'../output/raw_sim_microbiome_1000microbes_rarefied_1000.qza'"
      ]
     },
     "execution_count": 72,
     "metadata": {},
     "output_type": "execute_result"
    }
   ],
   "source": [
    "# calculate beta diversity distance matrix\n",
    "# Load metadata\n",
    "# run PERMANOVA\n",
    "# Extract p value (do qualitatively at first - I think I have code in either GCMP global disease or \n",
    "# coral microbe coevolution that can rip out the p-values from the QIIME2 qzv)\n",
    "\n",
    "# Let's read up on the best way to turn our -inf to +inf scaled microbe abundances into counts"
   ]
  },
  {
   "cell_type": "code",
   "execution_count": null,
   "id": "3e5003aa",
   "metadata": {},
   "outputs": [],
   "source": []
  }
 ],
 "metadata": {
  "kernelspec": {
   "display_name": "Python 3 (ipykernel)",
   "language": "python",
   "name": "python3"
  },
  "language_info": {
   "codemirror_mode": {
    "name": "ipython",
    "version": 3
   },
   "file_extension": ".py",
   "mimetype": "text/x-python",
   "name": "python",
   "nbconvert_exporter": "python",
   "pygments_lexer": "ipython3",
   "version": "3.8.18"
  }
 },
 "nbformat": 4,
 "nbformat_minor": 5
}
